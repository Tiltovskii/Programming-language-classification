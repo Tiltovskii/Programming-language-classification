{
 "cells": [
  {
   "cell_type": "code",
   "execution_count": 32,
   "id": "12e4f919",
   "metadata": {},
   "outputs": [],
   "source": [
    "from langdog import LangClassifier\n",
    "from utils import *\n",
    "import pandas as pd\n",
    "from tqdm import tqdm\n",
    "from sklearn.metrics import accuracy_score"
   ]
  },
  {
   "cell_type": "code",
   "execution_count": 5,
   "id": "d22a9a26",
   "metadata": {},
   "outputs": [],
   "source": [
    "ld = LangClassifier()"
   ]
  },
  {
   "cell_type": "code",
   "execution_count": 10,
   "id": "e31e7460",
   "metadata": {},
   "outputs": [],
   "source": [
    "df = pd.read_parquet('data/df.parquet.gzip')\n",
    "\n",
    "x_train, x_test, y_train, y_test = download_train_test(df)"
   ]
  },
  {
   "cell_type": "code",
   "execution_count": 16,
   "id": "a73dfccc",
   "metadata": {
    "scrolled": true
   },
   "outputs": [
    {
     "name": "stderr",
     "output_type": "stream",
     "text": [
      "Обучалка: 100%|██████████████████████████████████████████████████████████████| 979884/979884 [03:57<00:00, 4131.03it/s]\n"
     ]
    }
   ],
   "source": [
    "for code, target in tqdm(zip(x_train['code'], y_train['language']), desc='Обучалка',\n",
    "                         total=len(x_train)):\n",
    "    ld.train(code, target)"
   ]
  },
  {
   "cell_type": "code",
   "execution_count": 26,
   "id": "385e35dd",
   "metadata": {},
   "outputs": [
    {
     "name": "stderr",
     "output_type": "stream",
     "text": [
      "100%|████████████████████████████████████████████████████████████████████████| 244971/244971 [01:09<00:00, 3512.82it/s]\n"
     ]
    }
   ],
   "source": [
    "predict = [ld.classify(code).split(':')[1][1:] for code in tqdm(x_test['code'])]"
   ]
  },
  {
   "cell_type": "code",
   "execution_count": 29,
   "id": "be5ca5ab",
   "metadata": {},
   "outputs": [],
   "source": [
    "predict = np.array(predict)"
   ]
  },
  {
   "cell_type": "code",
   "execution_count": 30,
   "id": "fae8e5fd",
   "metadata": {},
   "outputs": [],
   "source": [
    "res = {}\n",
    "for lang in y_train['language'].unique():\n",
    "    mask = y_test['language'] == lang\n",
    "    res[lang] = (predict[mask] == lang).sum() / mask.sum()"
   ]
  },
  {
   "cell_type": "code",
   "execution_count": 33,
   "id": "6d502c2d",
   "metadata": {},
   "outputs": [
    {
     "data": {
      "text/plain": [
       "2.4492695053700235e-05"
      ]
     },
     "execution_count": 33,
     "metadata": {},
     "output_type": "execute_result"
    }
   ],
   "source": [
    "accuracy_score(y_test['language'], predict)"
   ]
  },
  {
   "cell_type": "code",
   "execution_count": 34,
   "id": "0ebb30a4",
   "metadata": {},
   "outputs": [
    {
     "data": {
      "text/plain": [
       "[('TGLANG_LANGUAGE_PL_SQL', 0.0),\n",
       " ('TGLANG_LANGUAGE_C', 0.0),\n",
       " ('TGLANG_LANGUAGE_YAML', 0.0),\n",
       " ('TGLANG_LANGUAGE_JSON', 0.0),\n",
       " ('TGLANG_LANGUAGE_HASKELL', 0.0),\n",
       " ('TGLANG_LANGUAGE_DART', 0.0),\n",
       " ('TGLANG_LANGUAGE_LATEX', 0.0),\n",
       " ('TGLANG_LANGUAGE_JAVA', 0.0),\n",
       " ('TGLANG_LANGUAGE_PYTHON', 0.0),\n",
       " ('TGLANG_LANGUAGE_OTHER', 0.0),\n",
       " ('TGLANG_LANGUAGE_UNREALSCRIPT', 0.0),\n",
       " ('TGLANG_LANGUAGE_1S_ENTERPRISE', 0.0),\n",
       " ('TGLANG_LANGUAGE_SQL', 0.0),\n",
       " ('TGLANG_LANGUAGE_TYPESCRIPT', 0.0),\n",
       " ('TGLANG_LANGUAGE_CMAKE', 0.0),\n",
       " ('TGLANG_LANGUAGE_PHP', 0.0),\n",
       " ('TGLANG_LANGUAGE_CSV', 0.0),\n",
       " ('TGLANG_LANGUAGE_CSHARP', 0.0),\n",
       " ('TGLANG_LANGUAGE_COFFESCRIPT', 0.0),\n",
       " ('TGLANG_LANGUAGE_SOLIDITY', 0.0),\n",
       " ('TGLANG_LANGUAGE_GO', 0.0),\n",
       " ('TGLANG_LANGUAGE_BATCH', 0.0),\n",
       " ('TGLANG_LANGUAGE_ADA', 0.0),\n",
       " ('TGLANG_LANGUAGE_NIM', 0.0),\n",
       " ('TGLANG_LANGUAGE_APEX', 0.0),\n",
       " ('TGLANG_LANGUAGE_VISUAL_BASIC', 0.0),\n",
       " ('TGLANG_LANGUAGE_DOCKER', 0.0),\n",
       " ('TGLANG_LANGUAGE_JULIA', 0.0),\n",
       " ('TGLANG_LANGUAGE_QML', 0.0),\n",
       " ('TGLANG_LANGUAGE_VERILOG', 0.0),\n",
       " ('TGLANG_LANGUAGE_CPLUSPLUS', 0.0),\n",
       " ('TGLANG_LANGUAGE_PERL', 0.0),\n",
       " ('TGLANG_LANGUAGE_MARKDOWN', 0.0),\n",
       " ('TGLANG_LANGUAGE_RUST', 0.0),\n",
       " ('TGLANG_LANGUAGE_RUBY', 0.0),\n",
       " ('TGLANG_LANGUAGE_LUA', 0.0),\n",
       " ('TGLANG_LANGUAGE_IDL', 0.0),\n",
       " ('TGLANG_LANGUAGE_FORTH', 0.0),\n",
       " ('TGLANG_LANGUAGE_ASP', 0.0),\n",
       " ('TGLANG_LANGUAGE_REGEX', 0.0),\n",
       " ('TGLANG_LANGUAGE_APACHE_GROOVY', 0.0),\n",
       " ('TGLANG_LANGUAGE_GAMS', 0.0),\n",
       " ('TGLANG_LANGUAGE_POWERSHELL', 0.0),\n",
       " ('TGLANG_LANGUAGE_KOTLIN', 0.0),\n",
       " ('TGLANG_LANGUAGE_ELIXIR', 0.0),\n",
       " ('TGLANG_LANGUAGE_TL', 0.0),\n",
       " ('TGLANG_LANGUAGE_ASSEMBLY', 0.0),\n",
       " ('TGLANG_LANGUAGE_CLOJURE', 0.0),\n",
       " ('TGLANG_LANGUAGE_AWK', 0.0),\n",
       " ('TGLANG_LANGUAGE_HTML', 0.0),\n",
       " ('TGLANG_LANGUAGE_KEYMAN', 0.0),\n",
       " ('TGLANG_LANGUAGE_JAVASCRIPT', 0.0),\n",
       " ('TGLANG_LANGUAGE_ICON', 0.0),\n",
       " ('TGLANG_LANGUAGE_AUTOHOTKEY', 0.0),\n",
       " ('TGLANG_LANGUAGE_DELPHI', 0.0),\n",
       " ('TGLANG_LANGUAGE_RAKU', 0.0),\n",
       " ('TGLANG_LANGUAGE_MAKEFILE', 0.0),\n",
       " ('TGLANG_LANGUAGE_SCALA', 0.0),\n",
       " ('TGLANG_LANGUAGE_PASCAL', 0.0),\n",
       " ('TGLANG_LANGUAGE_MATLAB', 0.0),\n",
       " ('TGLANG_LANGUAGE_ELM', 0.0),\n",
       " ('TGLANG_LANGUAGE_D', 0.0),\n",
       " ('TGLANG_LANGUAGE_APPLESCRIPT', 0.0),\n",
       " ('TGLANG_LANGUAGE_BASIC', 0.0),\n",
       " ('TGLANG_LANGUAGE_COMMON_LISP', 0.0),\n",
       " ('TGLANG_LANGUAGE_FORTRAN', 0.0),\n",
       " ('TGLANG_LANGUAGE_BISON', 0.0),\n",
       " ('TGLANG_LANGUAGE_INI', 0.0),\n",
       " ('TGLANG_LANGUAGE_WOLFRAM', 0.0),\n",
       " ('TGLANG_LANGUAGE_SCHEME', 0.0),\n",
       " ('TGLANG_LANGUAGE_PROTOBUF', 0.0),\n",
       " ('TGLANG_LANGUAGE_SWIFT', 0.0),\n",
       " ('TGLANG_LANGUAGE_PROLOG', 0.0),\n",
       " ('TGLANG_LANGUAGE_GRADLE', 0.0),\n",
       " ('TGLANG_LANGUAGE_LISP', 0.0),\n",
       " ('TGLANG_LANGUAGE_COBOL', 0.0),\n",
       " ('TGLANG_LANGUAGE_OCAML', 0.0),\n",
       " ('TGLANG_LANGUAGE_SHELL', 0.0),\n",
       " ('TGLANG_LANGUAGE_FSHARP', 0.0),\n",
       " ('TGLANG_LANGUAGE_VBSCRIPT', 0.0),\n",
       " ('TGLANG_LANGUAGE_TCL', 0.0),\n",
       " ('TGLANG_LANGUAGE_XML', 0.0),\n",
       " ('TGLANG_LANGUAGE_CSS', 0.0),\n",
       " ('TGLANG_LANGUAGE_HACK', 0.0),\n",
       " ('TGLANG_LANGUAGE_R', 0.0),\n",
       " ('TGLANG_LANGUAGE_LOGO', 0.0),\n",
       " ('TGLANG_LANGUAGE_CRYSTAL', 0.0),\n",
       " ('TGLANG_LANGUAGE_ERLANG', 0.0),\n",
       " ('TGLANG_LANGUAGE_SMALLTALK', 0.0),\n",
       " ('TGLANG_LANGUAGE_ABAP', 0.0),\n",
       " ('TGLANG_LANGUAGE_ACTIONSCRIPT', 0.0),\n",
       " ('TGLANG_LANGUAGE_OPENEDGE_ABL', 0.0),\n",
       " ('TGLANG_LANGUAGE_SAS', 0.0),\n",
       " ('TGLANG_LANGUAGE_OBJECTIVE_C', 0.0),\n",
       " ('TGLANG_LANGUAGE_TEXTILE', 0.0),\n",
       " ('TGLANG_LANGUAGE_GRAPHQL', 0.0),\n",
       " ('TGLANG_LANGUAGE_VALA', 0.0),\n",
       " ('TGLANG_LANGUAGE_NGINX', 0.0),\n",
       " ('TGLANG_LANGUAGE_FIFT', 0.0),\n",
       " ('TGLANG_LANGUAGE_FUNC', 1.0)]"
      ]
     },
     "execution_count": 34,
     "metadata": {},
     "output_type": "execute_result"
    }
   ],
   "source": [
    "sorted(res.items(), key=lambda x: x[1])"
   ]
  },
  {
   "cell_type": "code",
   "execution_count": null,
   "id": "f50479af",
   "metadata": {},
   "outputs": [],
   "source": []
  }
 ],
 "metadata": {
  "kernelspec": {
   "display_name": "Python 3 (ipykernel)",
   "language": "python",
   "name": "python3"
  },
  "language_info": {
   "codemirror_mode": {
    "name": "ipython",
    "version": 3
   },
   "file_extension": ".py",
   "mimetype": "text/x-python",
   "name": "python",
   "nbconvert_exporter": "python",
   "pygments_lexer": "ipython3",
   "version": "3.11.4"
  }
 },
 "nbformat": 4,
 "nbformat_minor": 5
}
