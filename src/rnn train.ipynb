{
 "cells": [
  {
   "cell_type": "code",
   "execution_count": 1,
   "id": "c3bad0fc",
   "metadata": {},
   "outputs": [],
   "source": [
    "from utils import *\n",
    "from tokenizers import ByteLevelBPETokenizer\n",
    "from pathlib import Path\n",
    "\n",
    "from IPython.display import clear_output\n",
    "from tqdm import tqdm, trange\n",
    "import numpy as np\n",
    "import pandas as pd\n",
    "\n",
    "from nltk.tokenize import WordPunctTokenizer\n",
    "from subword_nmt.learn_bpe import learn_bpe\n",
    "from subword_nmt.apply_bpe import BPE\n",
    "from nltk.translate.bleu_score import corpus_bleu\n",
    "from sklearn.model_selection import train_test_split\n",
    "from sklearn.metrics import roc_auc_score\n",
    "\n",
    "import torch\n",
    "import torch.nn as nn\n",
    "import torch.nn.functional as F\n",
    "from torch.utils.data import DataLoader, Dataset\n",
    "from torch.optim.lr_scheduler import ExponentialLR\n",
    "from torch.nn.utils.rnn import pad_sequence\n",
    "\n",
    "import datasets\n",
    "import evaluate\n",
    "\n",
    "import matplotlib.pyplot as plt\n",
    "device = torch.device(\"cuda\" if torch.cuda.is_available() else \"cpu\")"
   ]
  },
  {
   "cell_type": "code",
   "execution_count": 2,
   "id": "34770018",
   "metadata": {},
   "outputs": [
    {
     "data": {
      "text/plain": [
       "'2.1.0+cu121'"
      ]
     },
     "execution_count": 2,
     "metadata": {},
     "output_type": "execute_result"
    }
   ],
   "source": [
    "torch.__version__"
   ]
  },
  {
   "cell_type": "code",
   "execution_count": 2,
   "id": "6a1e3a55",
   "metadata": {},
   "outputs": [],
   "source": [
    "trainData = np.load('data/TOKENIZEDtrainData.npy')\n",
    "validationData = np.load('data/TOKENIZEDvalidationData.npy')\n",
    "trainLabels = pd.read_parquet('data/y_train.parquet').to_numpy()\n",
    "validationLabels = pd.read_parquet('data/y_test.parquet').to_numpy()"
   ]
  },
  {
   "cell_type": "code",
   "execution_count": 2,
   "id": "40f4dde1",
   "metadata": {},
   "outputs": [],
   "source": [
    "df = pd.read_parquet('data/dataWithoutComments.parquet')\n",
    "df = df.dropna()\n",
    "x_train, x_test, y_train, y_test = download_train_test(df)"
   ]
  },
  {
   "cell_type": "code",
   "execution_count": 9,
   "id": "83731295",
   "metadata": {
    "scrolled": true
   },
   "outputs": [
    {
     "name": "stderr",
     "output_type": "stream",
     "text": [
      "100%|████████████████████████████████████████████████████████████████████████| 979884/979884 [05:54<00:00, 2762.43it/s]\n",
      "100%|████████████████████████████████████████████████████████████████████████| 244971/244971 [01:28<00:00, 2757.42it/s]\n"
     ]
    }
   ],
   "source": [
    "with open('data/ft_train.txt', 'w', encoding=\"utf-8\") as f:\n",
    "    for each_text, each_label in tqdm(zip(x_train['code'], y_train['language']), total=len(x_train)):\n",
    "        f.writelines(f'{each_text}\\n')\n",
    "j\n",
    "with open('data/ft_test.txt', 'w', encoding=\"utf-8\") as f:\n",
    "    for each_text, each_label in tqdm(zip(x_test['code'], y_test['language']), total=len(x_test)):\n",
    "        f.writelines(f'{each_text}\\n')"
   ]
  },
  {
   "cell_type": "markdown",
   "id": "859de585",
   "metadata": {},
   "source": [
    "# Проверить траблууу"
   ]
  },
  {
   "cell_type": "code",
   "execution_count": 3,
   "id": "6ce39bdd",
   "metadata": {},
   "outputs": [
    {
     "data": {
      "text/plain": [
       "['model/tokenizer/without comments\\\\vocab.json',\n",
       " 'model/tokenizer/without comments\\\\merges.txt']"
      ]
     },
     "execution_count": 3,
     "metadata": {},
     "output_type": "execute_result"
    }
   ],
   "source": [
    "paths = [str(x) for x in Path('data/').glob('*.txt')]\n",
    "\n",
    "# initialize\n",
    "tokenizer = ByteLevelBPETokenizer()\n",
    "# and train\n",
    "tokenizer.train(files=paths, vocab_size=250000, min_frequency=2,\n",
    "                special_tokens=['<|endoftext|>', '<s>', '<pad>', '</s>', '<unk>', '<mask>'], show_progress=True)\n",
    "\n",
    "tokenizer.save_model('model/tokenizer/without comments')"
   ]
  },
  {
   "cell_type": "code",
   "execution_count": 3,
   "id": "0af45f74",
   "metadata": {},
   "outputs": [],
   "source": [
    "PATH = \"model/tokenizer/without comments\"\n",
    "\n",
    "tokenizer = ByteLevelBPETokenizer(\n",
    "            vocab = f'{PATH}/vocab.json', \n",
    "            merges= f'{PATH}/merges.txt', \n",
    "            add_prefix_space = True)\n",
    "\n",
    "tokenizer.enable_truncation(max_length=512)"
   ]
  },
  {
   "cell_type": "code",
   "execution_count": 5,
   "id": "dba401ec",
   "metadata": {},
   "outputs": [],
   "source": [
    "text = [''''# syntax: GAWK -f ASCENDING_PRIMES.AWK\n",
    "BEGIN {\n",
    "    start = 1\n",
    "    stop = 23456789\n",
    "    for (i=start; i<=stop; i++) {\n",
    "      if (is_prime(i)) {\n",
    "        primes++\n",
    "        leng = length(i)\n",
    "        flag = 1\n",
    "        for (j=1; j<leng; j++) {\n",
    "          if (substr(i,j,1) >= substr(i,j+1,1)) {\n",
    "            flag = 0\n",
    "            break\n",
    "          }\n",
    "        }\n",
    "        if (flag) {\n",
    "          printf(\"%9d%1s\",i,++count%10?\"\":\"\\n\")\n",
    "        }\n",
    "      }\n",
    "    }\n",
    "    printf(\"\\n%d-%d: %d primes, %d ascending primes\\n\",start,stop,primes,count)\n",
    "    exit(0)\n",
    "}\n",
    "function is_prime(n,  d) {\n",
    "    d = 5\n",
    "    if (n < 2) { return(0) }\n",
    "    if (n % 2 == 0) { return(n == 2) }\n",
    "    if (n % 3 == 0) { return(n == 3) }\n",
    "    while (d*d <= n) {\n",
    "      if (n % d == 0) { return(0) }\n",
    "      d += 2\n",
    "      if (n % d == 0) { return(0) }\n",
    "      d += 4\n",
    "    }\n",
    "    return(1)\n",
    "}''', '''// Ascending primes. Nigel Galloway: April 19th., 2022\n",
    "[2;3;5;7]::List.unfold(fun(n,i)->match n with []->None |_->let n=n|>List.map(fun(n,g)->[for n in n.. -1..1->(n-1,i*n+g)])|>List.concat in Some(n|>List.choose(fun(_,n)->if isPrime n then Some n else None),(n|>List.filter(fst>>(<)0),i*10)))([(2,3);(6,7);(8,9)],10)\n",
    "  |>List.concat|>List.sort|>List.iter(printf \"%d \"); printfn \"\"''']\n",
    "enc = tokenizer.encode_batch(text)"
   ]
  },
  {
   "cell_type": "code",
   "execution_count": 6,
   "id": "f5552cc0",
   "metadata": {},
   "outputs": [
    {
     "data": {
      "text/plain": [
       "[Encoding(num_tokens=336, attributes=[ids, type_ids, tokens, offsets, attention_mask, special_tokens_mask, overflowing]),\n",
       " Encoding(num_tokens=168, attributes=[ids, type_ids, tokens, offsets, attention_mask, special_tokens_mask, overflowing])]"
      ]
     },
     "execution_count": 6,
     "metadata": {},
     "output_type": "execute_result"
    }
   ],
   "source": [
    "tokenizer.encode_batch(text)"
   ]
  },
  {
   "cell_type": "code",
   "execution_count": 7,
   "id": "d86cbbd9",
   "metadata": {},
   "outputs": [
    {
     "name": "stdout",
     "output_type": "stream",
     "text": [
      " '# syntax: GAWK -f ASCENDING_PRIMES.AWK\n",
      "BEGIN {\n",
      "    start = 1\n",
      "    stop = 23456789\n",
      "    for (i=start; i<=stop; i++) {\n",
      "      if (is_prime(i)) {\n",
      "        primes++\n",
      "        leng = length(i)\n",
      "        flag = 1\n",
      "        for (j=1; j<leng; j++) {\n",
      "          if (substr(i,j,1) >= substr(i,j+1,1)) {\n",
      "            flag = 0\n",
      "            break\n",
      "          }\n",
      "        }\n",
      "        if (flag) {\n",
      "          printf(\"%9d%1s\",i,++count%10?\"\":\"\n",
      "\")\n",
      "        }\n",
      "      }\n",
      "    }\n",
      "    printf(\"\n",
      "%d-%d: %d primes, %d ascending primes\n",
      "\",start,stop,primes,count)\n",
      "    exit(0)\n",
      "}\n",
      "function is_prime(n,  d) {\n",
      "    d = 5\n",
      "    if (n < 2) { return(0) }\n",
      "    if (n % 2 == 0) { return(n == 2) }\n",
      "    if (n % 3 == 0) { return(n == 3) }\n",
      "    while (d*d <= n) {\n",
      "      if (n % d == 0) { return(0) }\n",
      "      d += 2\n",
      "      if (n % d == 0) { return(0) }\n",
      "      d += 4\n",
      "    }\n",
      "    return(1)\n",
      "}\n"
     ]
    }
   ],
   "source": [
    "print(tokenizer.decode(enc[0].ids))"
   ]
  },
  {
   "cell_type": "code",
   "execution_count": 7,
   "id": "72c43010",
   "metadata": {},
   "outputs": [
    {
     "data": {
      "text/plain": [
       "0"
      ]
     },
     "execution_count": 7,
     "metadata": {},
     "output_type": "execute_result"
    }
   ],
   "source": [
    "tokenizer.get_vocab()['<|endoftext|>']"
   ]
  },
  {
   "cell_type": "code",
   "execution_count": 8,
   "id": "abd70b6b",
   "metadata": {},
   "outputs": [
    {
     "data": {
      "text/plain": [
       "50000"
      ]
     },
     "execution_count": 8,
     "metadata": {},
     "output_type": "execute_result"
    }
   ],
   "source": [
    "tokenizer.get_vocab_size()"
   ]
  },
  {
   "cell_type": "code",
   "execution_count": null,
   "id": "f8d21b0a",
   "metadata": {},
   "outputs": [],
   "source": []
  },
  {
   "cell_type": "code",
   "execution_count": 8,
   "id": "ff4ca814",
   "metadata": {},
   "outputs": [],
   "source": [
    "class BaseModel(nn.Module):\n",
    "    def __init__(self, inp_voc, emb_size=64, hid_size=128, num_classes=100):\n",
    "        \"\"\"\n",
    "        Базовая модель encoder-decoder архитектуры\n",
    "        \"\"\"\n",
    "        super().__init__() \n",
    "\n",
    "        self.inp_voc = inp_voc\n",
    "        self.hid_size = hid_size\n",
    "        self.eos_ix = self.inp_voc.get_vocab()['<|endoftext|>']\n",
    "        \n",
    "        self.emb_inp = nn.Embedding(inp_voc.get_vocab_size(), emb_size)\n",
    "        self.enc0 = nn.GRU(emb_size, hid_size, batch_first=True)\n",
    "\n",
    "        self.fc = nn.Linear(hid_size, num_classes)\n",
    "        \n",
    "    def forward(self, inp):\n",
    "        ans = self.encode(inp)\n",
    "        return ans\n",
    "\n",
    "\n",
    "    def encode(self, inp, **flags):\n",
    "        \"\"\"\n",
    "        Считаем скрытое состояние, которое будет начальным для decode\n",
    "        :param inp: матрица входных токенов\n",
    "        :returns: скрытое представление с которого будет начинаться decode\n",
    "        \"\"\"\n",
    "        inp_emb = self.emb_inp(inp)\n",
    "        batch_size = inp.shape[0]\n",
    "        \n",
    "        enc_seq, [last_state_but_not_really] = self.enc0(inp_emb)\n",
    "        # enc_seq: [batch, time, hid_size], last_state: [batch, hid_size]\n",
    "        \n",
    "        # последний токен, не последние на самом деле, так как мы делали pading, чтобы тексты были\n",
    "        # одинакового размер, поэтому подсчитать длину исходного предложения не так уж тривиально\n",
    "        lengths = (inp != self.eos_ix).to(torch.int64).sum(dim=1).clamp_max(inp.shape[1] - 1)\n",
    "        last_state = enc_seq[torch.arange(len(enc_seq)), lengths]\n",
    "        # ^-- shape: [batch_size, hid_size]\n",
    "        \n",
    "        out = self.fc(last_state)\n",
    "        return out"
   ]
  },
  {
   "cell_type": "code",
   "execution_count": 4,
   "id": "d43ace61",
   "metadata": {},
   "outputs": [],
   "source": [
    "import torch.nn as nn\n",
    "\n",
    "class LSTMNet(nn.Module):\n",
    "    \n",
    "    def __init__(self,vocab_size, embedding_dim, hidden_dim, output_dim, n_layers, bidirectional, dropout):\n",
    "        \n",
    "        super().__init__()\n",
    "        \n",
    "        # Embedding layer converts integer sequences to vector sequences\n",
    "        self.embedding = nn.Embedding(vocab_size, embedding_dim)#, sparse=True)\n",
    "        \n",
    "        # LSTM layer process the vector sequences \n",
    "        self.lstm = nn.LSTM(embedding_dim,\n",
    "                            hidden_dim,\n",
    "                            num_layers = n_layers,\n",
    "                            bidirectional = bidirectional,\n",
    "                            dropout = dropout,\n",
    "                            batch_first=True\n",
    "                           )\n",
    "        \n",
    "        # Dense layer to predict \n",
    "        self.fc = nn.Linear(hidden_dim * 2, output_dim)\n",
    "        # Prediction activation function\n",
    "        #self.sigmoid = nn.Sigmoid()\n",
    "        \n",
    "    \n",
    "    def forward(self,text, text_lengths):\n",
    "        #print(text.shape, text_lengths.shape)\n",
    "        #text = text.T\n",
    "        #print(text.shape, text_lengths.shape)\n",
    "        embedded = self.embedding(text)\n",
    "        #print(text.shape)\n",
    "        # Thanks to packing, LSTM don't see padding tokens \n",
    "        # and this makes our model better\n",
    "        #print(text_lengths.shape)\n",
    "        packed_embedded = nn.utils.rnn.pack_padded_sequence(embedded, text_lengths.cpu(), enforce_sorted=False, batch_first=True)\n",
    "        packed_output, (hidden_state, cell_state) = self.lstm(packed_embedded)\n",
    "        \n",
    "        # Concatenating the final forward and backward hidden states\n",
    "        #print(hidden_state.shape)# 4 64 128\n",
    "        hidden = torch.cat((hidden_state[-2,:,:], hidden_state[-1,:,:]), dim = 1)\n",
    "        \n",
    "        dense_outputs=self.fc(hidden)\n",
    "\n",
    "        #Final activation function\n",
    "        #outputs=self.sigmoid(dense_outputs)\n",
    "        \n",
    "        return dense_outputs#outputs"
   ]
  },
  {
   "cell_type": "code",
   "execution_count": 5,
   "id": "517201b3",
   "metadata": {},
   "outputs": [],
   "source": [
    "def tokenize_batch(batch: np.array, tokenizer) -> list:\n",
    "    encoding = tokenizer.encode_batch(batch)\n",
    "    en_train_data = [torch.tensor(e.ids, dtype=torch.long) for e in encoding]\n",
    "    return en_train_data"
   ]
  },
  {
   "cell_type": "code",
   "execution_count": 6,
   "id": "aa699adc",
   "metadata": {},
   "outputs": [],
   "source": [
    "class Fitter(object):\n",
    "    def __init__(\n",
    "        self,\n",
    "        model,\n",
    "        opt,\n",
    "        loss,\n",
    "        train_dataloader,\n",
    "        scheduler,\n",
    "        test_dataloader,\n",
    "        batch_size = 128,\n",
    "        sheduler_steps = 10,\n",
    "        n_epochs = 10\n",
    "    ):\n",
    "\n",
    "        self.model = model\n",
    "        self.batch_size = batch_size\n",
    "        self.n_epochs = n_epochs\n",
    "        self.sheduler_steps = sheduler_steps\n",
    "\n",
    "        self.opt = opt\n",
    "        self.loss = loss\n",
    "        self.scheduler = scheduler\n",
    "        self.train_dataloader = train_dataloader\n",
    "        self.test_dataloader = test_dataloader\n",
    "        \n",
    "        self.model.to(device)\n",
    "        self.metrics = {'train_loss': [], 'dev_ROC-AUC': [],\n",
    "                       'dev_accuracy': [], 'dev_F1': []}\n",
    "\n",
    "    def fit(self):\n",
    "        # Turn on training\n",
    "        self.model.train(True)\n",
    "        \n",
    "        # Fit\n",
    "        for epoch in range(self.n_epochs):\n",
    "            train_loss = 0\n",
    "            i = 0\n",
    "            for (inps, targets) in tqdm(self.train_dataloader, desc='Работаем Братья'):\n",
    "                targets = torch.tensor(targets, device=device)\n",
    "                self.opt.zero_grad()\n",
    "            \n",
    "                pred = self.model(inps.to(device), torch.count_nonzero(inps, dim=1))\n",
    "                loss = self.loss(pred, targets)\n",
    "                loss.backward()\n",
    "                self.opt.step()\n",
    "                train_loss += loss.item()\n",
    "                i += 1\n",
    "            \n",
    "            if epoch % self.sheduler_steps == 1:\n",
    "                self.scheduler.step()\n",
    "            \n",
    "             \n",
    "            self.model.eval()\n",
    "            self.metrics['train_loss'] += [train_loss / (i+1)]\n",
    "            preds = np.empty(0, dtype=np.int64)\n",
    "            out_label_ids = np.empty(0, dtype=np.int64)\n",
    "            \n",
    "            with torch.no_grad():\n",
    "                i = 0\n",
    "                for (inps, targets) in tqdm(self.test_dataloader, desc='Валидация'):\n",
    "                    \n",
    "                    targets = torch.tensor(targets, device=device)\n",
    "                    \n",
    "                    pred =  self.model(inps.to(device), torch.count_nonzero(inps, dim=1))\n",
    "                    pred = F.softmax(pred, dim=1).detach().argmax(dim=1).cpu().numpy()\n",
    "                    preds = np.append(preds, pred, axis=0)\n",
    "                    out_label_ids = np.append(out_label_ids, targets.argmax(dim=1).cpu(), axis=0)\n",
    "                    i += 1\n",
    "                    \n",
    "            self.metrics['dev_accuracy'] += [simple_accuracy(preds, out_label_ids)]\n",
    "            self.metrics['dev_F1'] += [f1_score(y_true=out_label_ids, y_pred=preds, average=\"macro\")]\n",
    "\n",
    "            if ((len(self.metrics['dev_accuracy']) > 2 and self.metrics['dev_accuracy'][-1] > self.metrics['dev_accuracy'][-2])\n",
    "               or\n",
    "                len(self.metrics['dev_accuracy']) == 1\n",
    "               ):\n",
    "                torch.save(self.model, 'model/rnn.pt')\n",
    "            \n",
    "            clear_output(wait=True) \n",
    "            plt.figure(figsize=(10, 5))\n",
    "            \n",
    "            plt.subplot(2, 2, 1)\n",
    "            plt.xlabel(\"Iteration\")\n",
    "            plt.ylabel(\"Train Loss\")\n",
    "            plt.grid()\n",
    "            plt.plot(self.metrics['train_loss'])\n",
    "            \n",
    "            plt.subplot(2, 2, 2)\n",
    "            plt.xlabel(\"Iteration\")\n",
    "            plt.ylabel(\"Accuracy\")\n",
    "            plt.plot(self.metrics['dev_accuracy'], color=\"orange\")\n",
    "            plt.grid()\n",
    "            \n",
    "            plt.subplot(2, 2, 3)\n",
    "            plt.xlabel(\"Iteration\")\n",
    "            plt.ylabel(\"F1\")\n",
    "            plt.plot(self.metrics['dev_F1'], color=\"orange\")\n",
    "            plt.grid()\n",
    "            \n",
    "            plt.show()\n",
    "            \n",
    "            self.model.train(True)\n",
    "            \n",
    "        # Turn off training\n",
    "        self.model.train(False)"
   ]
  },
  {
   "cell_type": "code",
   "execution_count": 7,
   "id": "6a5bbef6",
   "metadata": {},
   "outputs": [],
   "source": [
    "class MyDataset(Dataset): \n",
    "    def __init__(self, inp, target):\n",
    "        self.inp = inp\n",
    "        self.target = target\n",
    "\n",
    "        \n",
    "    def __len__(self):\n",
    "        return len(self.inp)\n",
    "        \n",
    "    def __getitem__(self, idx):\n",
    "        return self.inp[idx], int(self.target[idx])\n",
    "\n",
    "num_labels = len(np.unique(trainLabels))\n",
    "\n",
    "def batch_collate_fn(batch):\n",
    "    inps = [item[0] for item in batch]\n",
    "    labels = np.array([item[1] for item in batch])\n",
    "    out = np.zeros((len(labels), num_labels))\n",
    "    out[np.arange(len(labels)), labels] = 1\n",
    "    return torch.tensor(inps, dtype=torch.long), out"
   ]
  },
  {
   "cell_type": "code",
   "execution_count": 8,
   "id": "3205fc0a",
   "metadata": {},
   "outputs": [],
   "source": [
    "enc_dict = {x: y for y, x in enumerate(np.unique(trainLabels))}\n",
    "dec_dict = {y: x for y, x in enumerate(np.unique(trainLabels))}"
   ]
  },
  {
   "cell_type": "code",
   "execution_count": 10,
   "id": "cd5928ec",
   "metadata": {},
   "outputs": [],
   "source": [
    "enc_dict = [\n",
    "  'TGLANG_LANGUAGE_OTHER',\n",
    "  'TGLANG_LANGUAGE_1S_ENTERPRISE',\n",
    "  'TGLANG_LANGUAGE_ABAP',\n",
    "  'TGLANG_LANGUAGE_ACTIONSCRIPT',\n",
    "  'TGLANG_LANGUAGE_ADA',\n",
    "  'TGLANG_LANGUAGE_APACHE_GROOVY',\n",
    "  'TGLANG_LANGUAGE_APEX',\n",
    "  'TGLANG_LANGUAGE_APPLESCRIPT',\n",
    "  'TGLANG_LANGUAGE_ASP',\n",
    "  'TGLANG_LANGUAGE_ASSEMBLY',\n",
    "  'TGLANG_LANGUAGE_AUTOHOTKEY',\n",
    "  'TGLANG_LANGUAGE_AWK',\n",
    "  'TGLANG_LANGUAGE_BASIC',\n",
    "  'TGLANG_LANGUAGE_BATCH',\n",
    "  'TGLANG_LANGUAGE_BISON',\n",
    "  'TGLANG_LANGUAGE_C',\n",
    "  'TGLANG_LANGUAGE_CLOJURE',\n",
    "  'TGLANG_LANGUAGE_CMAKE',\n",
    "  'TGLANG_LANGUAGE_COBOL',\n",
    "  'TGLANG_LANGUAGE_COFFESCRIPT',\n",
    "  'TGLANG_LANGUAGE_COMMON_LISP',\n",
    "  'TGLANG_LANGUAGE_CPLUSPLUS',\n",
    "  'TGLANG_LANGUAGE_CRYSTAL',\n",
    "  'TGLANG_LANGUAGE_CSHARP',\n",
    "  'TGLANG_LANGUAGE_CSS',\n",
    "  'TGLANG_LANGUAGE_CSV',\n",
    "  'TGLANG_LANGUAGE_D',\n",
    "  'TGLANG_LANGUAGE_DART',\n",
    "  'TGLANG_LANGUAGE_DELPHI',\n",
    "  'TGLANG_LANGUAGE_DOCKER',\n",
    "  'TGLANG_LANGUAGE_ELIXIR',\n",
    "  'TGLANG_LANGUAGE_ELM',\n",
    "  'TGLANG_LANGUAGE_ERLANG',\n",
    "  'TGLANG_LANGUAGE_FIFT',\n",
    "  'TGLANG_LANGUAGE_FORTH',\n",
    "  'TGLANG_LANGUAGE_FORTRAN',\n",
    "  'TGLANG_LANGUAGE_FSHARP',\n",
    "  'TGLANG_LANGUAGE_FUNC',\n",
    "  'TGLANG_LANGUAGE_GAMS',\n",
    "  'TGLANG_LANGUAGE_GO',\n",
    "  'TGLANG_LANGUAGE_GRADLE',\n",
    "  'TGLANG_LANGUAGE_GRAPHQL',\n",
    "  'TGLANG_LANGUAGE_HACK',\n",
    "  'TGLANG_LANGUAGE_HASKELL',\n",
    "  'TGLANG_LANGUAGE_HTML',\n",
    "  'TGLANG_LANGUAGE_ICON',\n",
    "  'TGLANG_LANGUAGE_IDL',\n",
    "  'TGLANG_LANGUAGE_INI',\n",
    "  'TGLANG_LANGUAGE_JAVA',\n",
    "  'TGLANG_LANGUAGE_JAVASCRIPT',\n",
    "  'TGLANG_LANGUAGE_JSON',\n",
    "  'TGLANG_LANGUAGE_JULIA',\n",
    "  'TGLANG_LANGUAGE_KEYMAN',\n",
    "  'TGLANG_LANGUAGE_KOTLIN',\n",
    "  'TGLANG_LANGUAGE_LATEX',\n",
    "  'TGLANG_LANGUAGE_LISP',\n",
    "  'TGLANG_LANGUAGE_LOGO',\n",
    "  'TGLANG_LANGUAGE_LUA',\n",
    "  'TGLANG_LANGUAGE_MAKEFILE',\n",
    "  'TGLANG_LANGUAGE_MARKDOWN',\n",
    "  'TGLANG_LANGUAGE_MATLAB',\n",
    "  'TGLANG_LANGUAGE_NGINX',\n",
    "  'TGLANG_LANGUAGE_NIM',\n",
    "  'TGLANG_LANGUAGE_OBJECTIVE_C',\n",
    "  'TGLANG_LANGUAGE_OCAML',\n",
    "  'TGLANG_LANGUAGE_OPENEDGE_ABL',\n",
    "  'TGLANG_LANGUAGE_PASCAL',\n",
    "  'TGLANG_LANGUAGE_PERL',\n",
    "  'TGLANG_LANGUAGE_PHP',\n",
    "  'TGLANG_LANGUAGE_PL_SQL',\n",
    "  'TGLANG_LANGUAGE_POWERSHELL',\n",
    "  'TGLANG_LANGUAGE_PROLOG',\n",
    "  'TGLANG_LANGUAGE_PROTOBUF',\n",
    "  'TGLANG_LANGUAGE_PYTHON',\n",
    "  'TGLANG_LANGUAGE_QML',\n",
    "  'TGLANG_LANGUAGE_R',\n",
    "  'TGLANG_LANGUAGE_RAKU',\n",
    "  'TGLANG_LANGUAGE_REGEX',\n",
    "  'TGLANG_LANGUAGE_RUBY',\n",
    "  'TGLANG_LANGUAGE_RUST',\n",
    "  'TGLANG_LANGUAGE_SAS',\n",
    "  'TGLANG_LANGUAGE_SCALA',\n",
    "  'TGLANG_LANGUAGE_SCHEME',\n",
    "  'TGLANG_LANGUAGE_SHELL',\n",
    "  'TGLANG_LANGUAGE_SMALLTALK',\n",
    "  'TGLANG_LANGUAGE_SOLIDITY',\n",
    "  'TGLANG_LANGUAGE_SQL',\n",
    "  'TGLANG_LANGUAGE_SWIFT',\n",
    "  'TGLANG_LANGUAGE_TCL',\n",
    "  'TGLANG_LANGUAGE_TEXTILE',\n",
    "  'TGLANG_LANGUAGE_TL',\n",
    "  'TGLANG_LANGUAGE_TYPESCRIPT',\n",
    "  'TGLANG_LANGUAGE_UNREALSCRIPT',\n",
    "  'TGLANG_LANGUAGE_VALA',\n",
    "  'TGLANG_LANGUAGE_VBSCRIPT',\n",
    "  'TGLANG_LANGUAGE_VERILOG',\n",
    "  'TGLANG_LANGUAGE_VISUAL_BASIC',\n",
    "  'TGLANG_LANGUAGE_WOLFRAM',\n",
    "  'TGLANG_LANGUAGE_XML',\n",
    "  'TGLANG_LANGUAGE_YAML']\n",
    "\n",
    "enc_dict = {key: i for i, key in enumerate(enc_dict)}"
   ]
  },
  {
   "cell_type": "code",
   "execution_count": 11,
   "id": "caea01f8",
   "metadata": {
    "scrolled": true
   },
   "outputs": [],
   "source": [
    "SIZE_OF_VOCAB = tokenizer.get_vocab_size()\n",
    "EMBEDDING_DIM = 128\n",
    "NUM_HIDDEN_NODES = 64\n",
    "NUM_OUTPUT_NODES = len(enc_dict)\n",
    "NUM_LAYERS = 2\n",
    "BIDIRECTION = True\n",
    "DROPOUT = 0.2\n",
    "batch_size = 64\n",
    "\n",
    "model = LSTMNet(SIZE_OF_VOCAB,\n",
    "                EMBEDDING_DIM,\n",
    "                NUM_HIDDEN_NODES,\n",
    "                NUM_OUTPUT_NODES,\n",
    "                NUM_LAYERS,\n",
    "                BIDIRECTION,\n",
    "                DROPOUT\n",
    "               ).to(device)\n",
    "\n",
    "# model = BaseModel(tokenizer).to(device)\n",
    "opt = torch.optim.Adam(model.parameters(), lr=1e-3)\n",
    "scheduler = ExponentialLR(opt, gamma=0.9)\n",
    "\n",
    "\n",
    "train_dataset = MyDataset(trainData, np.array(list(map(enc_dict.get, trainLabels.T[0]))))\n",
    "test_dataset = MyDataset(validationData, np.array(list(map(enc_dict.get, validationLabels.T[0]))))\n",
    "\n",
    "train_dataloader = DataLoader(train_dataset, batch_size=batch_size,\n",
    "                              collate_fn=batch_collate_fn, shuffle=True, drop_last=True,\n",
    "                              pin_memory=True)\n",
    "\n",
    "test_dataloader = DataLoader(test_dataset, batch_size=batch_size,\n",
    "                             collate_fn=batch_collate_fn, shuffle=False,\n",
    "                              pin_memory=True)\n",
    "\n",
    "loss = nn.CrossEntropyLoss()\n",
    "\n",
    "sheduler_steps = 1\n",
    "epochs = 5\n",
    "\n",
    "fitter =  Fitter(\n",
    "                model,\n",
    "                opt,\n",
    "                loss,\n",
    "                train_dataloader,\n",
    "                scheduler,\n",
    "                test_dataloader,\n",
    "                batch_size = batch_size,\n",
    "                sheduler_steps = sheduler_steps,\n",
    "                n_epochs = epochs,\n",
    ")"
   ]
  },
  {
   "cell_type": "code",
   "execution_count": 13,
   "id": "7f4bb6b2",
   "metadata": {},
   "outputs": [
    {
     "data": {
      "text/plain": [
       "{'train_loss': [0.4400647917949601],\n",
       " 'dev_ROC-AUC': [],\n",
       " 'dev_accuracy': [0.9705801911246638],\n",
       " 'dev_F1': [0.8046836725393447]}"
      ]
     },
     "execution_count": 13,
     "metadata": {},
     "output_type": "execute_result"
    }
   ],
   "source": [
    "fitter.metrics"
   ]
  },
  {
   "cell_type": "code",
   "execution_count": 12,
   "id": "c3ef71e3",
   "metadata": {
    "scrolled": false
   },
   "outputs": [
    {
     "data": {
      "image/png": "[encoded data removed]",
      "text/plain": [
       "<Figure size 1000x500 with 3 Axes>"
      ]
     },
     "metadata": {},
     "output_type": "display_data"
    },
    {
     "name": "stderr",
     "output_type": "stream",
     "text": [
      "Работаем Братья:  31%|██████████▏                      | 4730/15310 [11:22<25:26,  6.93it/s]\n"
     ]
    },
    {
     "ename": "KeyboardInterrupt",
     "evalue": "",
     "output_type": "error",
     "traceback": [
      "\u001b[1;31m---------------------------------------------------------------------------\u001b[0m",
      "\u001b[1;31mKeyboardInterrupt\u001b[0m                         Traceback (most recent call last)",
      "Cell \u001b[1;32mIn[12], line 1\u001b[0m\n\u001b[1;32m----> 1\u001b[0m fitter\u001b[38;5;241m.\u001b[39mfit()\n",
      "Cell \u001b[1;32mIn[6], line 42\u001b[0m, in \u001b[0;36mFitter.fit\u001b[1;34m(self)\u001b[0m\n\u001b[0;32m     39\u001b[0m targets \u001b[38;5;241m=\u001b[39m torch\u001b[38;5;241m.\u001b[39mtensor(targets, device\u001b[38;5;241m=\u001b[39mdevice)\n\u001b[0;32m     40\u001b[0m \u001b[38;5;28mself\u001b[39m\u001b[38;5;241m.\u001b[39mopt\u001b[38;5;241m.\u001b[39mzero_grad()\n\u001b[1;32m---> 42\u001b[0m pred \u001b[38;5;241m=\u001b[39m \u001b[38;5;28mself\u001b[39m\u001b[38;5;241m.\u001b[39mmodel(inps\u001b[38;5;241m.\u001b[39mto(device), torch\u001b[38;5;241m.\u001b[39mcount_nonzero(inps, dim\u001b[38;5;241m=\u001b[39m\u001b[38;5;241m1\u001b[39m))\n\u001b[0;32m     43\u001b[0m loss \u001b[38;5;241m=\u001b[39m \u001b[38;5;28mself\u001b[39m\u001b[38;5;241m.\u001b[39mloss(pred, targets)\n\u001b[0;32m     44\u001b[0m loss\u001b[38;5;241m.\u001b[39mbackward()\n",
      "File \u001b[1;32m~\\AppData\\Roaming\\Python\\Python311\\site-packages\\torch\\nn\\modules\\module.py:1518\u001b[0m, in \u001b[0;36mModule._wrapped_call_impl\u001b[1;34m(self, *args, **kwargs)\u001b[0m\n\u001b[0;32m   1516\u001b[0m     \u001b[38;5;28;01mreturn\u001b[39;00m \u001b[38;5;28mself\u001b[39m\u001b[38;5;241m.\u001b[39m_compiled_call_impl(\u001b[38;5;241m*\u001b[39margs, \u001b[38;5;241m*\u001b[39m\u001b[38;5;241m*\u001b[39mkwargs)  \u001b[38;5;66;03m# type: ignore[misc]\u001b[39;00m\n\u001b[0;32m   1517\u001b[0m \u001b[38;5;28;01melse\u001b[39;00m:\n\u001b[1;32m-> 1518\u001b[0m     \u001b[38;5;28;01mreturn\u001b[39;00m \u001b[38;5;28mself\u001b[39m\u001b[38;5;241m.\u001b[39m_call_impl(\u001b[38;5;241m*\u001b[39margs, \u001b[38;5;241m*\u001b[39m\u001b[38;5;241m*\u001b[39mkwargs)\n",
      "File \u001b[1;32m~\\AppData\\Roaming\\Python\\Python311\\site-packages\\torch\\nn\\modules\\module.py:1527\u001b[0m, in \u001b[0;36mModule._call_impl\u001b[1;34m(self, *args, **kwargs)\u001b[0m\n\u001b[0;32m   1522\u001b[0m \u001b[38;5;66;03m# If we don't have any hooks, we want to skip the rest of the logic in\u001b[39;00m\n\u001b[0;32m   1523\u001b[0m \u001b[38;5;66;03m# this function, and just call forward.\u001b[39;00m\n\u001b[0;32m   1524\u001b[0m \u001b[38;5;28;01mif\u001b[39;00m \u001b[38;5;129;01mnot\u001b[39;00m (\u001b[38;5;28mself\u001b[39m\u001b[38;5;241m.\u001b[39m_backward_hooks \u001b[38;5;129;01mor\u001b[39;00m \u001b[38;5;28mself\u001b[39m\u001b[38;5;241m.\u001b[39m_backward_pre_hooks \u001b[38;5;129;01mor\u001b[39;00m \u001b[38;5;28mself\u001b[39m\u001b[38;5;241m.\u001b[39m_forward_hooks \u001b[38;5;129;01mor\u001b[39;00m \u001b[38;5;28mself\u001b[39m\u001b[38;5;241m.\u001b[39m_forward_pre_hooks\n\u001b[0;32m   1525\u001b[0m         \u001b[38;5;129;01mor\u001b[39;00m _global_backward_pre_hooks \u001b[38;5;129;01mor\u001b[39;00m _global_backward_hooks\n\u001b[0;32m   1526\u001b[0m         \u001b[38;5;129;01mor\u001b[39;00m _global_forward_hooks \u001b[38;5;129;01mor\u001b[39;00m _global_forward_pre_hooks):\n\u001b[1;32m-> 1527\u001b[0m     \u001b[38;5;28;01mreturn\u001b[39;00m forward_call(\u001b[38;5;241m*\u001b[39margs, \u001b[38;5;241m*\u001b[39m\u001b[38;5;241m*\u001b[39mkwargs)\n\u001b[0;32m   1529\u001b[0m \u001b[38;5;28;01mtry\u001b[39;00m:\n\u001b[0;32m   1530\u001b[0m     result \u001b[38;5;241m=\u001b[39m \u001b[38;5;28;01mNone\u001b[39;00m\n",
      "Cell \u001b[1;32mIn[4], line 37\u001b[0m, in \u001b[0;36mLSTMNet.forward\u001b[1;34m(self, text, text_lengths)\u001b[0m\n\u001b[0;32m     32\u001b[0m \u001b[38;5;66;03m#print(text.shape)\u001b[39;00m\n\u001b[0;32m     33\u001b[0m \u001b[38;5;66;03m# Thanks to packing, LSTM don't see padding tokens \u001b[39;00m\n\u001b[0;32m     34\u001b[0m \u001b[38;5;66;03m# and this makes our model better\u001b[39;00m\n\u001b[0;32m     35\u001b[0m \u001b[38;5;66;03m#print(text_lengths.shape)\u001b[39;00m\n\u001b[0;32m     36\u001b[0m packed_embedded \u001b[38;5;241m=\u001b[39m nn\u001b[38;5;241m.\u001b[39mutils\u001b[38;5;241m.\u001b[39mrnn\u001b[38;5;241m.\u001b[39mpack_padded_sequence(embedded, text_lengths\u001b[38;5;241m.\u001b[39mcpu(), enforce_sorted\u001b[38;5;241m=\u001b[39m\u001b[38;5;28;01mFalse\u001b[39;00m, batch_first\u001b[38;5;241m=\u001b[39m\u001b[38;5;28;01mTrue\u001b[39;00m)\n\u001b[1;32m---> 37\u001b[0m packed_output, (hidden_state, cell_state) \u001b[38;5;241m=\u001b[39m \u001b[38;5;28mself\u001b[39m\u001b[38;5;241m.\u001b[39mlstm(packed_embedded)\n\u001b[0;32m     39\u001b[0m \u001b[38;5;66;03m# Concatenating the final forward and backward hidden states\u001b[39;00m\n\u001b[0;32m     40\u001b[0m \u001b[38;5;66;03m#print(hidden_state.shape)# 4 64 128\u001b[39;00m\n\u001b[0;32m     41\u001b[0m hidden \u001b[38;5;241m=\u001b[39m torch\u001b[38;5;241m.\u001b[39mcat((hidden_state[\u001b[38;5;241m-\u001b[39m\u001b[38;5;241m2\u001b[39m,:,:], hidden_state[\u001b[38;5;241m-\u001b[39m\u001b[38;5;241m1\u001b[39m,:,:]), dim \u001b[38;5;241m=\u001b[39m \u001b[38;5;241m1\u001b[39m)\n",
      "File \u001b[1;32m~\\AppData\\Roaming\\Python\\Python311\\site-packages\\torch\\nn\\modules\\module.py:1518\u001b[0m, in \u001b[0;36mModule._wrapped_call_impl\u001b[1;34m(self, *args, **kwargs)\u001b[0m\n\u001b[0;32m   1516\u001b[0m     \u001b[38;5;28;01mreturn\u001b[39;00m \u001b[38;5;28mself\u001b[39m\u001b[38;5;241m.\u001b[39m_compiled_call_impl(\u001b[38;5;241m*\u001b[39margs, \u001b[38;5;241m*\u001b[39m\u001b[38;5;241m*\u001b[39mkwargs)  \u001b[38;5;66;03m# type: ignore[misc]\u001b[39;00m\n\u001b[0;32m   1517\u001b[0m \u001b[38;5;28;01melse\u001b[39;00m:\n\u001b[1;32m-> 1518\u001b[0m     \u001b[38;5;28;01mreturn\u001b[39;00m \u001b[38;5;28mself\u001b[39m\u001b[38;5;241m.\u001b[39m_call_impl(\u001b[38;5;241m*\u001b[39margs, \u001b[38;5;241m*\u001b[39m\u001b[38;5;241m*\u001b[39mkwargs)\n",
      "File \u001b[1;32m~\\AppData\\Roaming\\Python\\Python311\\site-packages\\torch\\nn\\modules\\module.py:1527\u001b[0m, in \u001b[0;36mModule._call_impl\u001b[1;34m(self, *args, **kwargs)\u001b[0m\n\u001b[0;32m   1522\u001b[0m \u001b[38;5;66;03m# If we don't have any hooks, we want to skip the rest of the logic in\u001b[39;00m\n\u001b[0;32m   1523\u001b[0m \u001b[38;5;66;03m# this function, and just call forward.\u001b[39;00m\n\u001b[0;32m   1524\u001b[0m \u001b[38;5;28;01mif\u001b[39;00m \u001b[38;5;129;01mnot\u001b[39;00m (\u001b[38;5;28mself\u001b[39m\u001b[38;5;241m.\u001b[39m_backward_hooks \u001b[38;5;129;01mor\u001b[39;00m \u001b[38;5;28mself\u001b[39m\u001b[38;5;241m.\u001b[39m_backward_pre_hooks \u001b[38;5;129;01mor\u001b[39;00m \u001b[38;5;28mself\u001b[39m\u001b[38;5;241m.\u001b[39m_forward_hooks \u001b[38;5;129;01mor\u001b[39;00m \u001b[38;5;28mself\u001b[39m\u001b[38;5;241m.\u001b[39m_forward_pre_hooks\n\u001b[0;32m   1525\u001b[0m         \u001b[38;5;129;01mor\u001b[39;00m _global_backward_pre_hooks \u001b[38;5;129;01mor\u001b[39;00m _global_backward_hooks\n\u001b[0;32m   1526\u001b[0m         \u001b[38;5;129;01mor\u001b[39;00m _global_forward_hooks \u001b[38;5;129;01mor\u001b[39;00m _global_forward_pre_hooks):\n\u001b[1;32m-> 1527\u001b[0m     \u001b[38;5;28;01mreturn\u001b[39;00m forward_call(\u001b[38;5;241m*\u001b[39margs, \u001b[38;5;241m*\u001b[39m\u001b[38;5;241m*\u001b[39mkwargs)\n\u001b[0;32m   1529\u001b[0m \u001b[38;5;28;01mtry\u001b[39;00m:\n\u001b[0;32m   1530\u001b[0m     result \u001b[38;5;241m=\u001b[39m \u001b[38;5;28;01mNone\u001b[39;00m\n",
      "File \u001b[1;32m~\\AppData\\Roaming\\Python\\Python311\\site-packages\\torch\\nn\\modules\\rnn.py:882\u001b[0m, in \u001b[0;36mLSTM.forward\u001b[1;34m(self, input, hx)\u001b[0m\n\u001b[0;32m    879\u001b[0m     result \u001b[38;5;241m=\u001b[39m _VF\u001b[38;5;241m.\u001b[39mlstm(\u001b[38;5;28minput\u001b[39m, hx, \u001b[38;5;28mself\u001b[39m\u001b[38;5;241m.\u001b[39m_flat_weights, \u001b[38;5;28mself\u001b[39m\u001b[38;5;241m.\u001b[39mbias, \u001b[38;5;28mself\u001b[39m\u001b[38;5;241m.\u001b[39mnum_layers,\n\u001b[0;32m    880\u001b[0m                       \u001b[38;5;28mself\u001b[39m\u001b[38;5;241m.\u001b[39mdropout, \u001b[38;5;28mself\u001b[39m\u001b[38;5;241m.\u001b[39mtraining, \u001b[38;5;28mself\u001b[39m\u001b[38;5;241m.\u001b[39mbidirectional, \u001b[38;5;28mself\u001b[39m\u001b[38;5;241m.\u001b[39mbatch_first)\n\u001b[0;32m    881\u001b[0m \u001b[38;5;28;01melse\u001b[39;00m:\n\u001b[1;32m--> 882\u001b[0m     result \u001b[38;5;241m=\u001b[39m _VF\u001b[38;5;241m.\u001b[39mlstm(\u001b[38;5;28minput\u001b[39m, batch_sizes, hx, \u001b[38;5;28mself\u001b[39m\u001b[38;5;241m.\u001b[39m_flat_weights, \u001b[38;5;28mself\u001b[39m\u001b[38;5;241m.\u001b[39mbias,\n\u001b[0;32m    883\u001b[0m                       \u001b[38;5;28mself\u001b[39m\u001b[38;5;241m.\u001b[39mnum_layers, \u001b[38;5;28mself\u001b[39m\u001b[38;5;241m.\u001b[39mdropout, \u001b[38;5;28mself\u001b[39m\u001b[38;5;241m.\u001b[39mtraining, \u001b[38;5;28mself\u001b[39m\u001b[38;5;241m.\u001b[39mbidirectional)\n\u001b[0;32m    884\u001b[0m output \u001b[38;5;241m=\u001b[39m result[\u001b[38;5;241m0\u001b[39m]\n\u001b[0;32m    885\u001b[0m hidden \u001b[38;5;241m=\u001b[39m result[\u001b[38;5;241m1\u001b[39m:]\n",
      "\u001b[1;31mKeyboardInterrupt\u001b[0m: "
     ]
    }
   ],
   "source": [
    "fitter.fit()"
   ]
  },
  {
   "cell_type": "code",
   "execution_count": null,
   "id": "ff2130c0",
   "metadata": {},
   "outputs": [],
   "source": []
  }
 ],
 "metadata": {
  "kernelspec": {
   "display_name": "Python 3 (ipykernel)",
   "language": "python",
   "name": "python3"
  },
  "language_info": {
   "codemirror_mode": {
    "name": "ipython",
    "version": 3
   },
   "file_extension": ".py",
   "mimetype": "text/x-python",
   "name": "python",
   "nbconvert_exporter": "python",
   "pygments_lexer": "ipython3",
   "version": "3.11.4"
  }
 },
 "nbformat": 4,
 "nbformat_minor": 5
}
